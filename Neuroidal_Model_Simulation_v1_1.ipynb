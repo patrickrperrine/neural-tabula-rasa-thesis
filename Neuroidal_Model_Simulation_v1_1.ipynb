{
  "cells": [
    {
      "cell_type": "markdown",
      "id": "1e0a916e",
      "metadata": {
        "id": "1e0a916e"
      },
      "source": [
        "# Neuroidal Model Simulation v1.1\n",
        "#### Patrick Perrine\n",
        "\n",
        "Code developed for:\n",
        "\n",
        "Perrine, P.R. (2023). Neural Tabula Rasa: Foundations for Realistic Memories and Learning. Master's thesis. California Polytechnic State University, San Luis Obispo.\n",
        "\n",
        "All algorithms described here are primarily derived from:\n",
        "\n",
        "Valiant, L.G. (2005). Memorization and Association on a Realistic Neural Model. *Neural Computation, 17*, 527–555. https://doi.org/10.1162/0899766053019890"
      ]
    },
    {
      "cell_type": "markdown",
      "id": "3f6ca44a",
      "metadata": {
        "id": "3f6ca44a"
      },
      "source": [
        "### Install the *graph-tool* library (https://graph-tool.skewed.de/)\n",
        "The following two code blocks are subject to change based on the library's current hosting location, so a follow up with current information from its website may be required."
      ]
    },
    {
      "cell_type": "code",
      "execution_count": 1,
      "id": "bKylUrLvqy18",
      "metadata": {
        "id": "bKylUrLvqy18"
      },
      "outputs": [],
      "source": [
        "%%capture\n",
        "!echo \"deb http://downloads.skewed.de/apt jammy main\" >> /etc/apt/sources.list\n",
        "!apt-key adv --keyserver keyserver.ubuntu.com --recv-key 612DEFB798507F25\n",
        "!apt-get update\n",
        "!apt-get install python3-graph-tool python3-matplotlib python3-cairo"
      ]
    },
    {
      "cell_type": "code",
      "source": [
        "# Run this block if you are on Google Colab, otherwise skip\n",
        "%%capture\n",
        "!apt purge python3-cairo\n",
        "!apt install libcairo2-dev pkg-config python3-dev\n",
        "!pip install --force-reinstall pycairo\n",
        "!pip install zstandard"
      ],
      "metadata": {
        "id": "LUmecdYbVIQw"
      },
      "id": "LUmecdYbVIQw",
      "execution_count": 2,
      "outputs": []
    },
    {
      "cell_type": "markdown",
      "id": "c306e849",
      "metadata": {
        "id": "c306e849"
      },
      "source": [
        "### Import other required libraries and seed random number generator"
      ]
    },
    {
      "cell_type": "code",
      "execution_count": 3,
      "id": "623b17ba",
      "metadata": {
        "id": "623b17ba"
      },
      "outputs": [],
      "source": [
        "%%capture\n",
        "import itertools\n",
        "import numpy as np\n",
        "from numpy.random import *\n",
        "import graph_tool.all as gt"
      ]
    },
    {
      "cell_type": "code",
      "source": [
        "global rng\n",
        "rng = np.random.default_rng(seed=42)"
      ],
      "metadata": {
        "id": "p1sePMeSYydS"
      },
      "id": "p1sePMeSYydS",
      "execution_count": 4,
      "outputs": []
    },
    {
      "cell_type": "markdown",
      "id": "44db43a3",
      "metadata": {
        "id": "44db43a3"
      },
      "source": [
        "### Define the Neuroidal model's properties\n",
        "The following configuration is used to create results for the one-step, shared representation model:\n",
        "\n",
        "* The first six parameters are as described by Valiant (2005).\n",
        "  * We choose $p = \\frac{d}{n-1}$ due to the low $n$ values of tested here.\n",
        "* The $r_{approx}$ parameter is manually determined beforehand based on the previous parameters, and is used to generate the random, initial memories in a fixed size pursuant to the relations defined in Valiant (2005).\n",
        "* The $I$ parameter is what determines when an instance of interference is recognized.\n",
        "* The $L$ parameter specifies how many initial memories to grant the model before calling JOIN.\n",
        "* The $F$ parameter determines the level of interference tolerance to be checked at each iteration of JOIN.\n"
      ]
    },
    {
      "cell_type": "code",
      "execution_count": 5,
      "id": "6f2c3634",
      "metadata": {
        "id": "6f2c3634"
      },
      "outputs": [],
      "source": [
        "n = 1000\n",
        "d = 64\n",
        "p = d / n\n",
        "t = 1\n",
        "k = 8\n",
        "k_adj = 1.2\n",
        "\n",
        "r_approx = 45\n",
        "\n",
        "I = 2\n",
        "L = 100\n",
        "F = 0.25"
      ]
    },
    {
      "cell_type": "markdown",
      "id": "qzz-1cFyKGmk",
      "metadata": {
        "id": "qzz-1cFyKGmk"
      },
      "source": [
        "## Generate the graph model"
      ]
    },
    {
      "cell_type": "markdown",
      "id": "93048780",
      "metadata": {
        "id": "93048780"
      },
      "source": [
        "### Create an empty graph"
      ]
    },
    {
      "cell_type": "code",
      "execution_count": 6,
      "id": "0f2e3bc2",
      "metadata": {
        "id": "0f2e3bc2"
      },
      "outputs": [],
      "source": [
        "global g\n",
        "g = gt.Graph(directed=True)"
      ]
    },
    {
      "cell_type": "markdown",
      "id": "b1511c73",
      "metadata": {
        "id": "b1511c73"
      },
      "source": [
        "### Populate our graph with $N$ vertices"
      ]
    },
    {
      "cell_type": "code",
      "execution_count": 7,
      "id": "525c87ec",
      "metadata": {
        "id": "525c87ec"
      },
      "outputs": [],
      "source": [
        "%%capture\n",
        "g.add_vertex(n)"
      ]
    },
    {
      "cell_type": "markdown",
      "id": "79d6cb2c",
      "metadata": {
        "id": "79d6cb2c"
      },
      "source": [
        "### Define the mode of each neuron of the graph"
      ]
    },
    {
      "cell_type": "code",
      "execution_count": 8,
      "id": "c963fe00",
      "metadata": {
        "id": "c963fe00"
      },
      "outputs": [],
      "source": [
        "mode_T = g.new_vertex_property(\"int\")\n",
        "mode_q = g.new_vertex_property(\"int\")\n",
        "mode_f = g.new_vertex_property(\"bool\")"
      ]
    },
    {
      "cell_type": "markdown",
      "id": "mPQUC3J0VxcA",
      "metadata": {
        "id": "mPQUC3J0VxcA"
      },
      "source": [
        "### Initialize the mode of each neuron"
      ]
    },
    {
      "cell_type": "code",
      "execution_count": 9,
      "id": "wgql45kzIyfp",
      "metadata": {
        "id": "wgql45kzIyfp"
      },
      "outputs": [],
      "source": [
        "mode_T.a = t\n",
        "mode_q.a = 1\n",
        "mode_f.a = False"
      ]
    },
    {
      "cell_type": "markdown",
      "id": "j1nbKsr8YcMP",
      "metadata": {
        "id": "j1nbKsr8YcMP"
      },
      "source": [
        "### Populate our graph with synapses"
      ]
    },
    {
      "cell_type": "code",
      "execution_count": 10,
      "id": "a3ca01e8-82b3-4560-9979-e127f3b2c3fe",
      "metadata": {
        "id": "a3ca01e8-82b3-4560-9979-e127f3b2c3fe"
      },
      "outputs": [],
      "source": [
        "all_edges = itertools.permutations(range(n), 2)\n",
        "for e in all_edges:\n",
        "    if rng.random() < p:\n",
        "         g.add_edge(*e)"
      ]
    },
    {
      "cell_type": "markdown",
      "id": "kfGnZe8MDdUB",
      "metadata": {
        "id": "kfGnZe8MDdUB"
      },
      "source": [
        "### Define the mode of each synapse"
      ]
    },
    {
      "cell_type": "code",
      "execution_count": 11,
      "id": "H8A4TkcQtI5M",
      "metadata": {
        "id": "H8A4TkcQtI5M"
      },
      "outputs": [],
      "source": [
        "mode_qq = g.new_vertex_property(\"int\")\n",
        "mode_w = g.new_edge_property(\"double\")"
      ]
    },
    {
      "cell_type": "markdown",
      "id": "mT_fXF_xDkM1",
      "metadata": {
        "id": "mT_fXF_xDkM1"
      },
      "source": [
        "### Initialize the mode of each synapse"
      ]
    },
    {
      "cell_type": "code",
      "execution_count": 12,
      "id": "uIxtAus0DkBz",
      "metadata": {
        "id": "uIxtAus0DkBz"
      },
      "outputs": [],
      "source": [
        "mode_qq.a = 1\n",
        "mode_w.a = t / (k_adj * k)"
      ]
    },
    {
      "cell_type": "markdown",
      "id": "Vd5E-sO5D4pW",
      "metadata": {
        "id": "Vd5E-sO5D4pW"
      },
      "source": [
        "## Vicinal Algorithms for the JOIN algorithm"
      ]
    },
    {
      "cell_type": "markdown",
      "source": [
        "### Weight summation functions"
      ],
      "metadata": {
        "id": "6gULnCxHpHCL"
      },
      "id": "6gULnCxHpHCL"
    },
    {
      "cell_type": "code",
      "execution_count": 13,
      "id": "ssb1yaRepcRc",
      "metadata": {
        "id": "ssb1yaRepcRc"
      },
      "outputs": [],
      "source": [
        "def sum_weights(v_i):\n",
        "    w_i = 0\n",
        "    for e_ji in g.iter_in_edges(v_i):\n",
        "        if mode_f[e_ji[0]] == True:\n",
        "            w_i += mode_w[e_ji]\n",
        "    return w_i"
      ]
    },
    {
      "cell_type": "markdown",
      "source": [
        "Equivalent to the function above, but leverages optimization offered by graph-tool and NumPy to negate the costly for loop."
      ],
      "metadata": {
        "id": "r-f4bgAbDMxg"
      },
      "id": "r-f4bgAbDMxg"
    },
    {
      "cell_type": "code",
      "source": [
        "def fast_sum_weights(v_i):\n",
        "    W = g.get_in_edges(v_i, [mode_w])[:,2]\n",
        "    F = np.array(g.get_in_neighbors(v_i, [mode_f])[:,1], dtype=bool)\n",
        "    return W[F].sum()"
      ],
      "metadata": {
        "id": "kd7N3vTQxBM4"
      },
      "id": "kd7N3vTQxBM4",
      "execution_count": 14,
      "outputs": []
    },
    {
      "cell_type": "markdown",
      "source": [
        "### Neuron and Synapse Updates"
      ],
      "metadata": {
        "id": "Q68B5UpbphmD"
      },
      "id": "Q68B5UpbphmD"
    },
    {
      "cell_type": "code",
      "execution_count": 15,
      "id": "b0b5a251-c46f-4a6f-8249-8f8e11d24cfe",
      "metadata": {
        "id": "b0b5a251-c46f-4a6f-8249-8f8e11d24cfe"
      },
      "outputs": [],
      "source": [
        "def _delta(v_i, w_i):\n",
        "    if w_i > mode_T[v_i]:\n",
        "        mode_q[v_i] = 2\n",
        "        mode_f[v_i] = True"
      ]
    },
    {
      "cell_type": "code",
      "execution_count": 16,
      "id": "9b2cb273-f13c-4e74-82c1-aae72e328e51",
      "metadata": {
        "id": "9b2cb273-f13c-4e74-82c1-aae72e328e51"
      },
      "outputs": [],
      "source": [
        "def _lambda(v_i, w_i, e_ji, f_j):\n",
        "    if f_j == 1:\n",
        "        mode_qq[e_ji] = 2"
      ]
    },
    {
      "cell_type": "markdown",
      "source": [
        "### Overall Graph Update"
      ],
      "metadata": {
        "id": "l0TDkN3-pqKl"
      },
      "id": "l0TDkN3-pqKl"
    },
    {
      "cell_type": "markdown",
      "source": [
        "For convenience, we check for eligible $C$ nodes during the weight updates for each neuron of the graph. We also allow the skipping of updating the edges of the graph for our use of JOIN in the simulation, as edge updates are not needed in our case.\n",
        "\n",
        "Also, we would normally allow a neuron to fire when its threshold is surpassed by its incoming edge weights (a threshold transition). However, we reverse such firing here due to it affecting the search for memory $C$ when other nodes will later be checked."
      ],
      "metadata": {
        "id": "vH41xhO9R_eK"
      },
      "id": "vH41xhO9R_eK"
    },
    {
      "cell_type": "code",
      "source": [
        "def update_graph(update_edges=False):\n",
        "    C = []\n",
        "    for v_i in g.iter_vertices():\n",
        "        w_i = fast_sum_weights(v_i)\n",
        "        _delta(v_i, w_i)\n",
        "        if mode_q[v_i] == 2:\n",
        "            C.append(v_i)\n",
        "            mode_f[v_i] = False\n",
        "        if update_edges:\n",
        "            for e_ji in g.iter_in_edges(v_i):\n",
        "                f_j = mode_f[e_ji[0]]\n",
        "                _lambda(v_i, w_i, e_ji, f_j)\n",
        "    mode_q.a = 1\n",
        "    mode_qq.a = 1\n",
        "    mode_f.a = False\n",
        "    return C"
      ],
      "metadata": {
        "id": "xS4CchJxL_cw"
      },
      "id": "xS4CchJxL_cw",
      "execution_count": 17,
      "outputs": []
    },
    {
      "cell_type": "markdown",
      "id": "b234c00e",
      "metadata": {
        "id": "b234c00e"
      },
      "source": [
        "## The JOIN algorithm\n",
        "This implements the *one-step* variant of JOIN for *shared representations* as\n",
        "defined in Valiant (2005)."
      ]
    },
    {
      "cell_type": "code",
      "execution_count": 18,
      "id": "cca2362b",
      "metadata": {
        "id": "cca2362b"
      },
      "outputs": [],
      "source": [
        "def JOIN_one_step_shared(A, B):\n",
        "    for v in A + B:\n",
        "        mode_f[v] = True\n",
        "    return update_graph(update_edges=False)"
      ]
    },
    {
      "cell_type": "markdown",
      "id": "K6-___hLEBca",
      "metadata": {
        "id": "K6-___hLEBca"
      },
      "source": [
        "## Interference check function"
      ]
    },
    {
      "cell_type": "code",
      "execution_count": 19,
      "id": "c5zOCQnlkWQN",
      "metadata": {
        "id": "c5zOCQnlkWQN"
      },
      "outputs": [],
      "source": [
        "def interference_check(S, A_i, B_i, C):\n",
        "    sum = 0\n",
        "    for D_i in range(len(S)):\n",
        "        if D_i != A_i and D_i != B_i:\n",
        "            D = S[D_i]\n",
        "            if len(set(C) & set(D)) > (len(D) / I):\n",
        "                sum += I\n",
        "    return sum"
      ]
    },
    {
      "cell_type": "markdown",
      "id": "P9LvyYdlJ9uT",
      "metadata": {
        "id": "P9LvyYdlJ9uT"
      },
      "source": [
        "## Simulation"
      ]
    },
    {
      "cell_type": "markdown",
      "source": [
        "### Verbose print functions for simulation updates"
      ],
      "metadata": {
        "id": "GnmHXRixc4-c"
      },
      "id": "GnmHXRixc4-c"
    },
    {
      "cell_type": "code",
      "source": [
        "def print_join_update(S_length, H, H_if, total_if, m_size):\n",
        "    print(\"Current Total Memories:\", S_length)\n",
        "    print(\"Current Interference Rate:\", round(H_if/H, 3))\n",
        "    print(\"Averaged Interference Rate:\", round(total_if/S_length, 3))\n",
        "    print(\"Averaged Size of Memories Created:\", round(m_size/H, 2), \"\\n\\n\")"
      ],
      "metadata": {
        "id": "KpJ449u2Y2Cq"
      },
      "id": "KpJ449u2Y2Cq",
      "execution_count": 20,
      "outputs": []
    },
    {
      "cell_type": "code",
      "source": [
        "def print_halt_msg(S_length, H, H_if, total_if):\n",
        "    print(\"----\\n\\n\")\n",
        "    print(\"Given: n=\", n, \"d=\", d, \"k=\", k, \"k_adj=\", k_adj, \"r_approx=\",\n",
        "           r_approx, \"START_MEM=\", L)\n",
        "    print(\"Halting Memory Formation at\", int(F*100), \"% Total Interference\")\n",
        "    print(\"Total Averaged Interference Rate:\", round(total_if/S_length, 3))\n",
        "    print(\"Capacity:\", L, \"Initial Memories +\" ,S_length-L,\"JOIN Memories.\")"
      ],
      "metadata": {
        "id": "lrzUxnoVZdn0"
      },
      "id": "lrzUxnoVZdn0",
      "execution_count": 21,
      "outputs": []
    },
    {
      "cell_type": "code",
      "source": [
        "def print_memorized_msg(S_length):\n",
        "    print(\"Given: n=\", n, \"d=\", d, \"k=\", k, \"k_adj=\", k_adj, \"r_approx=\",\n",
        "           r_approx, \"START_MEM=\", L)\n",
        "    print(\"Memorized all combinations of\", L,\"memory connectives.\")\n",
        "    print(\"Contains:\", L, \"Initial Memories +\" ,S_length-L,\"JOIN Memories.\")"
      ],
      "metadata": {
        "id": "V0Z1wYcbcVG_"
      },
      "id": "V0Z1wYcbcVG_",
      "execution_count": 22,
      "outputs": []
    },
    {
      "cell_type": "markdown",
      "id": "xjEEuq1TGw06",
      "metadata": {
        "id": "xjEEuq1TGw06"
      },
      "source": [
        "### Call JOIN on all possible pairs of memories until the interference threshold is reached\n",
        "Assuming that the interference faulting proportion will be reached and this code's execution will halt, we will have reached the model's final capacity. Otherwise, we had not specified a large enough $L$ to give the model enough information to memorize disjunctions from, leading to a \"total memorization,\" which is not very useful for measuring capacity.\n",
        "\n",
        "Note that the $H$ parameter determines how many memories to JOIN in one \"batch\" of simulation."
      ]
    },
    {
      "cell_type": "code",
      "execution_count": 23,
      "id": "rhJnNGL3Fqmq",
      "metadata": {
        "id": "rhJnNGL3Fqmq"
      },
      "outputs": [],
      "source": [
        "def one_step_shared_join_simulation(H, verbose=True):\n",
        "    m = 0\n",
        "    H_if = 0\n",
        "    m_size = 0\n",
        "    total_if = 0\n",
        "    init_pairs = itertools.combinations(range(L), 2)\n",
        "    S = [rng.choice(np.arange(0,n-1), size=r_approx)\n",
        "         for _ in range(L)]\n",
        "\n",
        "    for A_i,B_i in init_pairs:\n",
        "        A = list(S[A_i])\n",
        "        B = list(S[B_i])\n",
        "        C = JOIN_one_step_shared(A, B)\n",
        "        C_if = interference_check(S, A_i, B_i, C)\n",
        "\n",
        "        m += 1\n",
        "        S.append(C)\n",
        "        m_size += len(C)\n",
        "\n",
        "        if m % H == 0:\n",
        "            if verbose:\n",
        "                print_join_update(len(S), H, H_if, total_if, m_size)\n",
        "            H_if = 0\n",
        "            m_size = 0\n",
        "\n",
        "        if C_if > 0:\n",
        "            H_if += C_if\n",
        "            total_if += C_if\n",
        "            if total_if/len(S) > F:\n",
        "              if verbose:\n",
        "                  print_halt_msg(len(S), H, H_if, total_if)\n",
        "              return S\n",
        "\n",
        "    if verbose:\n",
        "        print_memorized_msg(len(S))\n",
        "    return S"
      ]
    },
    {
      "cell_type": "code",
      "source": [
        "memory_bank = one_step_shared_join_simulation(H=1000, verbose=True)"
      ],
      "metadata": {
        "colab": {
          "base_uri": "https://localhost:8080/"
        },
        "id": "aNeQVo4Ti10v",
        "outputId": "92c5e56f-03d6-443a-82ca-20b68ac207c2"
      },
      "id": "aNeQVo4Ti10v",
      "execution_count": 24,
      "outputs": [
        {
          "output_type": "stream",
          "name": "stdout",
          "text": [
            "Current Total Memories: 1100\n",
            "Current Interference Rate: 0.098\n",
            "Averaged Interference Rate: 0.089\n",
            "Averaged Size of Memories Created: 43.45 \n",
            "\n",
            "\n",
            "Current Total Memories: 2100\n",
            "Current Interference Rate: 0.264\n",
            "Averaged Interference Rate: 0.172\n",
            "Averaged Size of Memories Created: 41.56 \n",
            "\n",
            "\n",
            "Current Total Memories: 3100\n",
            "Current Interference Rate: 0.386\n",
            "Averaged Interference Rate: 0.241\n",
            "Averaged Size of Memories Created: 43.15 \n",
            "\n",
            "\n",
            "----\n",
            "\n",
            "\n",
            "Given: n= 1000 d= 64 k= 8 k_adj= 1.2 r_approx= 45 START_MEM= 100\n",
            "Halting Memory Formation at 25 % Total Interference\n",
            "Total Averaged Interference Rate: 0.251\n",
            "Capacity: 100 Initial Memories + 3657 JOIN Memories.\n"
          ]
        }
      ]
    },
    {
      "cell_type": "markdown",
      "id": "OzowHbiNEcXC",
      "metadata": {
        "id": "OzowHbiNEcXC"
      },
      "source": [
        "### Comparison with the exact capacity for the *disjoint representation* model"
      ]
    },
    {
      "cell_type": "code",
      "execution_count": 25,
      "id": "SPCPkDu8Ea4r",
      "metadata": {
        "id": "SPCPkDu8Ea4r",
        "colab": {
          "base_uri": "https://localhost:8080/"
        },
        "outputId": "106ff746-3ee7-4237-c0e9-ec52ea9119c5"
      },
      "outputs": [
        {
          "output_type": "stream",
          "name": "stdout",
          "text": [
            "Exact capacity in disjoint representation: 22\n"
          ]
        }
      ],
      "source": [
        "print(\"Exact capacity in disjoint representation:\", (int)(n / r_approx))"
      ]
    }
  ],
  "metadata": {
    "colab": {
      "provenance": []
    },
    "kernelspec": {
      "display_name": "Python 3 (ipykernel)",
      "language": "python",
      "name": "python3"
    },
    "language_info": {
      "codemirror_mode": {
        "name": "ipython",
        "version": 3
      },
      "file_extension": ".py",
      "mimetype": "text/x-python",
      "name": "python",
      "nbconvert_exporter": "python",
      "pygments_lexer": "ipython3",
      "version": "3.9.18"
    }
  },
  "nbformat": 4,
  "nbformat_minor": 5
}