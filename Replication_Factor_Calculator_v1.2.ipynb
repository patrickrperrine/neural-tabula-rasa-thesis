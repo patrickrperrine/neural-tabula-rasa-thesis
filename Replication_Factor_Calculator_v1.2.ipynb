{
 "cells": [
  {
   "cell_type": "markdown",
   "id": "32e35c45",
   "metadata": {},
   "source": [
    "# Replication Factor Calculator v1.2\n",
    "### Patrick Perrine\n",
    "This is to help compute solutions of the term $r$, or *replication factor*, as specified by:\n",
    "\n",
    "Valiant, L.G. (2005). Memorization and Association on a Realistic Neural Model. *Neural Computation, 17*, 527–555. https://doi.org/10.1162/0899766053019890\n",
    "\n",
    "A couple known solutions of $r$ from Valiant (2005) are given in the example checks following each set of conditions listed. This notebook has not been fully validated by checking all known solutions from the cited paper and related work as of yet.\n",
    "\n",
    "All condition checks should be as stringent than the conditions checked when searching for the solutions given in the cited article, except for Equation 2.1 and its variants as described below. "
   ]
  },
  {
   "cell_type": "markdown",
   "id": "9e240b1c",
   "metadata": {},
   "source": [
    "### Notes on Precision for Equations 2.1, 2.1', and 2.1''\n",
    "\n",
    "We will designate the *supposed* solution of $r$ when passed to the check functions as $r_{s}$, and refer to the *expected* value of $r$ from the calculations in the check functions as $r_{e}$. Our goal when calculating Equations 2.1, 2.1', and 2.1'' is to verify if $r_{s}$ is *reasonably close* to $r_{e}$.\n",
    "\n",
    "* *For Equations 2.1 and 2.1'':* If $n < 10^6$, we check if $r_{s}$ is within two standard deviations of the calculated value. If $n \\geq 10^6$, we only compare the first and/or second digits of $r_{s}$ and $r_{e}$, as performed in Valiant (2005).\n",
    "    * Since we know that our standard deviation is $\\sqrt{r_{e}}$, this seems reasonable since our procedure will become less stable as $n$ decreases.\n",
    "    * Checking via a range of standard deviations is not as feasible when $n \\geq 10^6$, since our deviations become gradually smaller as $n$ increases.\n",
    "* *For Equation 2.1':* We check if $r_{e}$ is within a range specified by the parameter $c_1$. \n",
    "    * All that is currently known about $c_1$ is the fact that $1 < c_1 < 1.1$. Since we have no other knowledge of $c_1$, we assume a generous range of $(2 - c_1) r_{e} < r_{s} < c_1 r_{e}$. This grants $r_{s}$ up to nearly a $10\\%$ error margin when compared to $r_{e}$."
   ]
  },
  {
   "cell_type": "markdown",
   "id": "64270f1d",
   "metadata": {},
   "source": [
    "# I. Two-Step, Disjoint Representation Conditions"
   ]
  },
  {
   "cell_type": "code",
   "execution_count": 1,
   "id": "a8989121",
   "metadata": {},
   "outputs": [],
   "source": [
    "from src.two_step_disjoint import *"
   ]
  },
  {
   "cell_type": "markdown",
   "id": "38fc26b8",
   "metadata": {},
   "source": [
    "Given $n, d, k,$ and *(for Eq. 2.6)* $t$,"
   ]
  },
  {
   "cell_type": "code",
   "execution_count": 2,
   "id": "0534d260",
   "metadata": {},
   "outputs": [],
   "source": [
    "n = 100000\n",
    "d = 512\n",
    "p = d / n\n",
    "k = 16\n",
    "\n",
    "t = 1"
   ]
  },
  {
   "cell_type": "code",
   "execution_count": 3,
   "id": "b0e31564",
   "metadata": {},
   "outputs": [],
   "source": [
    "r = 2338 # from Table 1 of Valiant (2005)"
   ]
  },
  {
   "cell_type": "markdown",
   "id": "9d438be7",
   "metadata": {},
   "source": [
    "__Equation 2.1:__ $$\\mathbb{E}\\left[r\\right] = n\\mathcal{B}\\left(r, p, k\\right)^2.$$"
   ]
  },
  {
   "cell_type": "code",
   "execution_count": 4,
   "id": "16427547",
   "metadata": {},
   "outputs": [
    {
     "name": "stdout",
     "output_type": "stream",
     "text": [
      "True\n"
     ]
    }
   ],
   "source": [
    "print(check_eq_2_1(n, p, k, r))"
   ]
  },
  {
   "cell_type": "markdown",
   "id": "88726536",
   "metadata": {},
   "source": [
    "__Equation 2.2:__ $$p' = \\mathcal{B}\\left(\\frac{r}{2}, p, k\\right) \\cdot \\mathcal{B}\\left(r, p, k\\right),$$\n",
    "\n",
    "$$\\mathcal{B}\\left(n, p', \\frac{r}{10}\\right) \\sim 0.$$"
   ]
  },
  {
   "cell_type": "code",
   "execution_count": 5,
   "id": "a02fc0a4",
   "metadata": {},
   "outputs": [
    {
     "name": "stdout",
     "output_type": "stream",
     "text": [
      "True\n"
     ]
    }
   ],
   "source": [
    "print(check_eq_2_2(n, p, k, r))"
   ]
  },
  {
   "cell_type": "markdown",
   "id": "3fba1300",
   "metadata": {},
   "source": [
    "__Equation 2.3:__ $$p' = (1 - \\mathcal{B}(r, p, k)) \\cdot (\\mathcal{B}(r, p, k))^2 ,$$\n",
    "\n",
    "$$\\mathcal{B}\\left(n, p', \\frac{2r}{3}\\right) \\sim 1.$$"
   ]
  },
  {
   "cell_type": "code",
   "execution_count": 6,
   "id": "82a1bd7e",
   "metadata": {},
   "outputs": [
    {
     "name": "stdout",
     "output_type": "stream",
     "text": [
      "True\n"
     ]
    }
   ],
   "source": [
    "print(check_eq_2_3(n, p, k, r))"
   ]
  },
  {
   "cell_type": "markdown",
   "id": "8b573df8",
   "metadata": {},
   "source": [
    "__Equation 2.4:__ $$p' = p\\mathcal{B}(r, p, k),$$\n",
    "\n",
    "$$\\mathcal{Y} = \\mathcal{B}\\left(n, p', k\\right) \\sim 1.$$"
   ]
  },
  {
   "cell_type": "code",
   "execution_count": 7,
   "id": "a24ff758",
   "metadata": {},
   "outputs": [
    {
     "name": "stdout",
     "output_type": "stream",
     "text": [
      "True\n"
     ]
    }
   ],
   "source": [
    "print(check_eq_2_4(n, p, k, r))"
   ]
  },
  {
   "cell_type": "markdown",
   "id": "c8ed96a2",
   "metadata": {},
   "source": [
    "__Equation 2.5:__ $$p' = \\mathcal{B}\\left(n, p\\mathcal{B}\\left(\\frac{r}{2}, p, k\\right), k\\right),$$\n",
    "\n",
    "$$\\mathcal{B}\\left(r, p', \\frac{r}{2}\\right) \\sim 0.$$"
   ]
  },
  {
   "cell_type": "code",
   "execution_count": 8,
   "id": "0a1cf5f5",
   "metadata": {},
   "outputs": [
    {
     "name": "stdout",
     "output_type": "stream",
     "text": [
      "True\n"
     ]
    }
   ],
   "source": [
    "print(check_eq_2_5(n, p, k, r))"
   ]
  },
  {
   "cell_type": "markdown",
   "id": "7067930a",
   "metadata": {},
   "source": [
    "__Equation 2.6:__ $$p' = p\\left(1 - \\left(1 - \\mathcal{B}\\left(r, p, k\\right)\\right)^t\\right),$$\n",
    "\n",
    "$$p'' = \\mathcal{B}\\left(n, p'\\mathcal{B}\\left(r, p, k\\right), k\\right),$$\n",
    "\n",
    "$$\\mathcal{B}\\left(r, p'', \\frac{r}{2}\\right) \\sim 0.$$"
   ]
  },
  {
   "cell_type": "code",
   "execution_count": 9,
   "id": "ff44675b",
   "metadata": {},
   "outputs": [
    {
     "name": "stdout",
     "output_type": "stream",
     "text": [
      "True\n"
     ]
    }
   ],
   "source": [
    "print(check_eq_2_6(n, p, k, r, t))"
   ]
  },
  {
   "cell_type": "markdown",
   "id": "9ad88aa4",
   "metadata": {},
   "source": [
    "### Batch Check for a Two-Step, Disjoint Representation"
   ]
  },
  {
   "cell_type": "code",
   "execution_count": 10,
   "id": "0263bccc",
   "metadata": {},
   "outputs": [
    {
     "name": "stdout",
     "output_type": "stream",
     "text": [
      "For a Disjoint Representation with Two-Step Mechanisms,\n",
      " set n=100000, d=512, k=16, t=1,\n",
      " and test r=2338:\n",
      "\n",
      "Equation 2.1: True\n",
      "Equation 2.2: True\n",
      "Equation 2.3: True\n",
      "Equation 2.4: True\n",
      "Equation 2.5: True\n",
      "Equation 2.6: True \n",
      "\n"
     ]
    },
    {
     "data": {
      "text/plain": [
       "'Passed'"
      ]
     },
     "execution_count": 10,
     "metadata": {},
     "output_type": "execute_result"
    }
   ],
   "source": [
    "run_twostep_disjoint_checks(n, p, k, r, t)"
   ]
  },
  {
   "cell_type": "markdown",
   "id": "8702fd39",
   "metadata": {},
   "source": [
    "## II. Two-Step, Shared Representation Conditions"
   ]
  },
  {
   "cell_type": "code",
   "execution_count": 11,
   "id": "ca704088",
   "metadata": {},
   "outputs": [],
   "source": [
    "from src.two_step_shared import *"
   ]
  },
  {
   "cell_type": "markdown",
   "id": "979fe8d1",
   "metadata": {},
   "source": [
    "Given $n, d, k,$ and *(for Eq. 2.1')* $c_1$,"
   ]
  },
  {
   "cell_type": "code",
   "execution_count": 12,
   "id": "190e278c",
   "metadata": {},
   "outputs": [],
   "source": [
    "n = 100000\n",
    "d = 512\n",
    "p = d / n\n",
    "k = 16\n",
    "\n",
    "c_1 = 1.09"
   ]
  },
  {
   "cell_type": "code",
   "execution_count": 13,
   "id": "a2ee3349",
   "metadata": {},
   "outputs": [],
   "source": [
    "r = 2338 # from Table 1 of Valiant (2005)"
   ]
  },
  {
   "cell_type": "markdown",
   "id": "27702fd1",
   "metadata": {},
   "source": [
    "$$ r' = \\left\\lfloor\\frac{r^2}{n}\\right\\rceil. $$"
   ]
  },
  {
   "cell_type": "markdown",
   "id": "7eceed81",
   "metadata": {},
   "source": [
    "__Equation 2.1':__ $$c_{1}r = n\\left\\{\\mathcal{B}\\left(r', p, k\\right) + \\sum_{i=0}^{k−1}\\left[\\mathcal{T}\\left(r', p, i\\right)\\left(\\mathcal{B}\\left(r−r', p, k − i\\right)\\right)^2 \\right]\\right\\}$$"
   ]
  },
  {
   "cell_type": "code",
   "execution_count": 14,
   "id": "43ab701b",
   "metadata": {},
   "outputs": [
    {
     "name": "stdout",
     "output_type": "stream",
     "text": [
      "True\n"
     ]
    }
   ],
   "source": [
    "print(check_eq_2_1_dash(n, p, k, r, c_1))"
   ]
  },
  {
   "cell_type": "markdown",
   "id": "5fc6f9ef",
   "metadata": {},
   "source": [
    "__Equation 2.2':__ $$p' = \\mathcal{B}\\left(r', p, k\\right) + \\sum_{i=0}^{k−1}\\left[\\mathcal{T}(r', p, i)\\mathcal{B}\\left(r−r', p, k−i\\right)\\mathcal{B}\\left(\\frac{r}{2}−r', p, k−i\\right)\\right],$$\n",
    "\n",
    "$$\\mathcal{B}\\left(n, p', \\frac{r}{10}\\right) \\sim 0.$$"
   ]
  },
  {
   "cell_type": "code",
   "execution_count": 15,
   "id": "6fc05df9",
   "metadata": {},
   "outputs": [
    {
     "name": "stdout",
     "output_type": "stream",
     "text": [
      "True\n"
     ]
    }
   ],
   "source": [
    "print(check_eq_2_2_dash(n, p, k, r))"
   ]
  },
  {
   "cell_type": "markdown",
   "id": "807ef329",
   "metadata": {},
   "source": [
    "__Equation 2.3':__ $$ r'' = \\left\\lfloor\\frac{r^3}{n^2}\\right\\rceil,$$\n",
    "\n",
    "$$ r^{∧} = r' - r'',$$\n",
    "\n",
    "(added $r^{\\#}$ for simplification)\n",
    "\n",
    "$$ r^{\\#} = r − 2r' + r'',$$ \n",
    "\n",
    "$$p' = \\sum_{i=0}^{k}\\mathcal{T}\\left(r^{∧}, p, i\\right)\\cdot\\sum_{j=0}^{k-i}\\mathcal{T}\\left(r^{∧}, p, j\\right)\\cdot\\sum_{l=0}^{k-i−j}\\mathcal{T}\\left(r^{∧}, p, l\\right)\\cdot\\sum_{m=0}^{k−i−j−l}\\mathcal{T}\\left(r'', p, m\\right)\\left[\\mathcal{B}\\left(r^{\\#}, p, k − i − j − m\\right)\\mathcal{B}\\left(r^{\\#}, p, k − j − l − m\\right)\\left(1 − \\mathcal{B}\\left(r^{\\#}, p, k − i − l − m\\right)\\right)\\right],$$\n",
    "\n",
    "$$\\mathcal{B}\\left(n, p', \\frac{2r}{3}\\right) \\sim 1.$$"
   ]
  },
  {
   "cell_type": "code",
   "execution_count": 16,
   "id": "a42a49b2",
   "metadata": {},
   "outputs": [
    {
     "name": "stdout",
     "output_type": "stream",
     "text": [
      "True\n"
     ]
    }
   ],
   "source": [
    "# This may run for a while\n",
    "print(check_eq_2_3_dash(n, p, k, r))"
   ]
  },
  {
   "cell_type": "markdown",
   "id": "91708f84",
   "metadata": {},
   "source": [
    "__Equation 2.4' (same as 2.4):__ $$p' = p\\mathcal{B}(r, p, k),$$\n",
    "\n",
    "$$\\mathcal{Y} = \\mathcal{B}(n, p', k) \\sim 1.$$"
   ]
  },
  {
   "cell_type": "code",
   "execution_count": 17,
   "id": "00ec6430",
   "metadata": {},
   "outputs": [
    {
     "name": "stdout",
     "output_type": "stream",
     "text": [
      "True\n"
     ]
    }
   ],
   "source": [
    "print(check_eq_2_4_dash(n, p, k, r))"
   ]
  },
  {
   "cell_type": "markdown",
   "id": "2e2aa929",
   "metadata": {},
   "source": [
    "__Equation 2.5' (same as 2.5):__ $$p' = \\mathcal{B}\\left(n, p\\mathcal{B}\\left(\\frac{r}{2}, p, k\\right), k\\right),$$\n",
    "\n",
    "$$\\mathcal{B}\\left(r, p', \\frac{r}{2}\\right) \\sim 0.$$"
   ]
  },
  {
   "cell_type": "code",
   "execution_count": 18,
   "id": "0804ebd9",
   "metadata": {},
   "outputs": [
    {
     "name": "stdout",
     "output_type": "stream",
     "text": [
      "True\n"
     ]
    }
   ],
   "source": [
    "print(check_eq_2_5_dash(n, p, k, r))"
   ]
  },
  {
   "cell_type": "markdown",
   "id": "b036991d",
   "metadata": {},
   "source": [
    "__Equation 2.6':__ $$p' = p\\left(\\mathcal{B}\\left(r', p, k\\right) + \\sum_{i=0}^{k-1}\\left[\\mathcal{T}\\left(r', p, i\\right)\\left(\\mathcal{B}\\left(r − r', p, k − i\\right)\\right)^2 \\right]\\right),$$\n",
    "\n",
    "$$p'' = \\mathcal{B}\\left(n, p', k\\right),$$\n",
    "\n",
    "$$\\mathcal{B}\\left(r, p'', \\frac{r}{2}\\right) \\sim 0.$$"
   ]
  },
  {
   "cell_type": "code",
   "execution_count": 19,
   "id": "1f660b7f",
   "metadata": {},
   "outputs": [
    {
     "name": "stdout",
     "output_type": "stream",
     "text": [
      "True\n"
     ]
    }
   ],
   "source": [
    "print(check_eq_2_6_dash(n, p, k, r))"
   ]
  },
  {
   "cell_type": "markdown",
   "id": "08da7ad3",
   "metadata": {},
   "source": [
    "### Batch Check for a Two-Step, Shared Representation"
   ]
  },
  {
   "cell_type": "code",
   "execution_count": 20,
   "id": "f634af04",
   "metadata": {},
   "outputs": [
    {
     "name": "stdout",
     "output_type": "stream",
     "text": [
      "For a Shared Representation with Two-Step Mechanisms,\n",
      " set n=100000, d=512, k=16, c_1=1.09,\n",
      " and test r=2338:\n",
      "\n",
      "Equation 2.1': True\n",
      "Equation 2.2': True\n",
      "Equation 2.3': True\n",
      "Equation 2.4': True\n",
      "Equation 2.5': True\n",
      "Equation 2.6': True \n",
      "\n"
     ]
    },
    {
     "data": {
      "text/plain": [
       "'Passed'"
      ]
     },
     "execution_count": 20,
     "metadata": {},
     "output_type": "execute_result"
    }
   ],
   "source": [
    "run_twostep_shared_checks(n, p, k, r, c_1)"
   ]
  },
  {
   "cell_type": "markdown",
   "id": "6266b3aa",
   "metadata": {},
   "source": [
    "## III. One-Step, Shared Representation Conditions"
   ]
  },
  {
   "cell_type": "code",
   "execution_count": 21,
   "id": "f415a932",
   "metadata": {},
   "outputs": [],
   "source": [
    "from src.one_step_shared import *"
   ]
  },
  {
   "cell_type": "markdown",
   "id": "57082101",
   "metadata": {},
   "source": [
    "Given $n, d, k,$ and $k_{adj}$,"
   ]
  },
  {
   "cell_type": "code",
   "execution_count": 22,
   "id": "580dc9aa",
   "metadata": {},
   "outputs": [],
   "source": [
    "n = 100000\n",
    "d = 512\n",
    "p = d / n\n",
    "k = 16\n",
    "k_adj = 2.0"
   ]
  },
  {
   "cell_type": "code",
   "execution_count": 23,
   "id": "69534e89",
   "metadata": {},
   "outputs": [],
   "source": [
    "r = 2134 # from Table 3 of Valiant (2005)"
   ]
  },
  {
   "cell_type": "markdown",
   "id": "879e1581",
   "metadata": {},
   "source": [
    "$$k_a = k,$$\n",
    "$$k_m = k_{adj}\\cdot k_{a},$$"
   ]
  },
  {
   "cell_type": "code",
   "execution_count": 24,
   "id": "344adb01",
   "metadata": {},
   "outputs": [],
   "source": [
    "k_a = k\n",
    "k_m = int(k_adj * k_a)"
   ]
  },
  {
   "cell_type": "markdown",
   "id": "3db23716",
   "metadata": {},
   "source": [
    "$$ r' = \\left\\lfloor\\frac{r^2}{n}\\right\\rceil. $$"
   ]
  },
  {
   "cell_type": "markdown",
   "id": "2b748e0f",
   "metadata": {},
   "source": [
    "__Equation 2.1'':__ $$\\mathbb{E}\\left[r\\right] = n\\mathcal{B}\\left(2r − r', p, k_m\\right).$$"
   ]
  },
  {
   "cell_type": "code",
   "execution_count": 25,
   "id": "5e0e9ec2",
   "metadata": {},
   "outputs": [
    {
     "name": "stdout",
     "output_type": "stream",
     "text": [
      "True\n"
     ]
    }
   ],
   "source": [
    "print(check_eq_2_1_ddash(n, p, k_m, r))"
   ]
  },
  {
   "cell_type": "markdown",
   "id": "45df51c7",
   "metadata": {},
   "source": [
    "__Equation 2.2':__ $$p' = \\mathcal{B}\\left(\\frac{3r}{2}, p, k_{m}\\right),$$\n",
    "\n",
    "$$\\mathcal{B}\\left(n, p', \\frac{r}{10}\\right) \\sim 0.$$"
   ]
  },
  {
   "cell_type": "code",
   "execution_count": 26,
   "id": "6d3d29aa",
   "metadata": {},
   "outputs": [
    {
     "name": "stdout",
     "output_type": "stream",
     "text": [
      "True\n"
     ]
    }
   ],
   "source": [
    "print(check_eq_2_2_ddash(n, p, k_m, r))"
   ]
  },
  {
   "cell_type": "markdown",
   "id": "6ffba8b4",
   "metadata": {},
   "source": [
    "#### Note: An additional option for Equation 2.3'':\n",
    "The calculation of Equation 2.3'' is available for a *one-step, disjoint* representation. We believe this was given due to the significant runtime complexity when calculating the shared variant. This variant can be accessed by setting the parameter $complete\\_share$ of that check function to be __False__. \n",
    "\n",
    "Exploring this could be of interest if developing a new set of equations for a disjoint representation with one-step mechanisms, or if interested in developing any hybrid models with any partial sharing of neurons between memories."
   ]
  },
  {
   "cell_type": "markdown",
   "id": "0031d568",
   "metadata": {},
   "source": [
    "__Equation 2.3'' (Disjoint):__ $$p' = \\sum_{s=0}^{k-1}\\mathcal{T}\\left(r, p, s\\right)\\left(\\mathcal{B}\\left(r, p, k_m − s\\right)\\right)\\left(1 − \\mathcal{B}\\left(r, p, k_m − s\\right)\\right),$$\n",
    "\n",
    "$$\\mathcal{B}\\left(n, p', \\frac{2r}{3}\\right) \\sim 1.$$"
   ]
  },
  {
   "cell_type": "code",
   "execution_count": 27,
   "id": "38b1b454",
   "metadata": {},
   "outputs": [
    {
     "name": "stdout",
     "output_type": "stream",
     "text": [
      "True\n"
     ]
    }
   ],
   "source": [
    "print(check_eq_2_3_ddash(n, p, k_m, r, complete_share=False))"
   ]
  },
  {
   "cell_type": "markdown",
   "id": "5e2f2268",
   "metadata": {},
   "source": [
    "__Equation 2.3'' (Shared):__ $$ r'' = \\left\\lfloor\\frac{r^3}{n^2}\\right\\rceil,$$\n",
    "\n",
    "$$ r^{∧} = r' - r'',$$\n",
    "\n",
    "$$ r^{\\#} = r − 2r' + r'',$$\n",
    "\n",
    "$$p' = \\sum_{s=0}^{k_{m}-1}\\mathcal{T}\\left(r^{\\#}, p, s\\right)\\cdot\\sum_{i=0}^{k_{m}-s-1}\\mathcal{T}\\left(r^{∧}, p, i\\right)\\cdot\\sum_{j=0}^{k_{m}-i-s-1}\\mathcal{T}\\left(r^{∧}, p, j\\right)\\cdot\\sum_{m=0}^{k_{m}-i−j-s-1}\\mathcal{T}\\left(r'', p, m\\right)\\cdot\\sum_{l=0}^{k_{m}−i−j−m−s−1}\\mathcal{T}\\left(r^{∧}, p, l\\right)\\left[\\mathcal{B}\\left(r^{\\#}, p, k_m − s − i − j − l − m\\right)\\left(1 − \\mathcal{B}\\left(r^{\\#}, p, k_m − s − i − j − l − m\\right)\\right)\\right],$$\n",
    "\n",
    "(assumed that $k$ was $k_m$ in the summation indicies for calculating $p'$, experimentation seems to confirm this to be true)\n",
    "\n",
    "$$\\mathcal{B}\\left(n, p', \\frac{2r}{3}\\right) \\sim 1.$$"
   ]
  },
  {
   "cell_type": "code",
   "execution_count": 28,
   "id": "72e1e77b",
   "metadata": {},
   "outputs": [
    {
     "name": "stdout",
     "output_type": "stream",
     "text": [
      "True\n"
     ]
    }
   ],
   "source": [
    "# This may run for a while\n",
    "print(check_eq_2_3_ddash(n, p, k_m, r, complete_share=True))"
   ]
  },
  {
   "cell_type": "markdown",
   "id": "1a40151d",
   "metadata": {},
   "source": [
    "__Equation 2.4'':__ $$p' = p\\mathcal{B}\\left(r, p, k_{a}\\right),$$\n",
    "\n",
    "$$\\mathcal{Y} = \\mathcal{B}\\left(n, p', k_{a}\\right) \\sim 1.$$"
   ]
  },
  {
   "cell_type": "code",
   "execution_count": 29,
   "id": "3f73789d",
   "metadata": {},
   "outputs": [
    {
     "name": "stdout",
     "output_type": "stream",
     "text": [
      "True\n"
     ]
    }
   ],
   "source": [
    "print(check_eq_2_4_ddash(n, p, k_a, r))"
   ]
  },
  {
   "cell_type": "markdown",
   "id": "f453caf3",
   "metadata": {},
   "source": [
    "__Equation 2.5'':__ $$p' = \\mathcal{B}\\left(n, p\\mathcal{B}\\left(\\frac{r}{2}, p, k_{a}\\right), k_{a}\\right),$$\n",
    "\n",
    "$$\\mathcal{B}\\left(r, p', \\frac{r}{2}\\right) \\sim 0.$$"
   ]
  },
  {
   "cell_type": "code",
   "execution_count": 30,
   "id": "84176772",
   "metadata": {},
   "outputs": [
    {
     "name": "stdout",
     "output_type": "stream",
     "text": [
      "True\n"
     ]
    }
   ],
   "source": [
    "print(check_eq_2_5_ddash(n, p, k_a, r))"
   ]
  },
  {
   "cell_type": "markdown",
   "id": "bbee0a85",
   "metadata": {},
   "source": [
    "__Equation 2.6'':__ $$p' = p\\left(\\mathcal{B}\\left(r', p, k_{a}\\right) + \\sum_{i=0}^{k-1}\\left[\\mathcal{T}\\left(r', p, i\\right)\\left(\\mathcal{B}\\left(r − r', p, k_{a} − i\\right)\\right)^2 \\right]\\right),$$\n",
    "\n",
    "$$p'' = \\mathcal{B}\\left(n, p', k_{a}\\right),$$\n",
    "\n",
    "$$\\mathcal{B}\\left(r, p'', \\frac{r}{2}\\right) \\sim 0.$$"
   ]
  },
  {
   "cell_type": "code",
   "execution_count": 31,
   "id": "d0d713bb",
   "metadata": {},
   "outputs": [
    {
     "name": "stdout",
     "output_type": "stream",
     "text": [
      "True\n"
     ]
    }
   ],
   "source": [
    "print(check_eq_2_6_ddash(n, p, k_a, r))"
   ]
  },
  {
   "cell_type": "markdown",
   "id": "188467ef",
   "metadata": {},
   "source": [
    "### Batch Check for a One-Step, Shared Representation"
   ]
  },
  {
   "cell_type": "code",
   "execution_count": 32,
   "id": "892c4b7e",
   "metadata": {
    "scrolled": true
   },
   "outputs": [
    {
     "name": "stdout",
     "output_type": "stream",
     "text": [
      "For a Shared Representation with One-Step Mechanisms,\n",
      " set n=100000, d=512, k_a=16, k_m=32,\n",
      " and test r=2134:\n",
      "\n",
      "Equation 2.1'': True\n",
      "Equation 2.2'': True\n",
      "Equation 2.3'': True                                              \n",
      "Equation 2.3'': True\n",
      "Equation 2.4'': True\n",
      "Equation 2.5'': True\n",
      "Equation 2.6'': True \n",
      "\n"
     ]
    },
    {
     "data": {
      "text/plain": [
       "'Passed'"
      ]
     },
     "execution_count": 32,
     "metadata": {},
     "output_type": "execute_result"
    }
   ],
   "source": [
    "run_onestep_shared_checks(n, p, k, k_adj, r, complete_share=True)"
   ]
  }
 ],
 "metadata": {
  "kernelspec": {
   "display_name": "Python 3 (ipykernel)",
   "language": "python",
   "name": "python3"
  },
  "language_info": {
   "codemirror_mode": {
    "name": "ipython",
    "version": 3
   },
   "file_extension": ".py",
   "mimetype": "text/x-python",
   "name": "python",
   "nbconvert_exporter": "python",
   "pygments_lexer": "ipython3",
   "version": "3.9.18"
  }
 },
 "nbformat": 4,
 "nbformat_minor": 5
}
