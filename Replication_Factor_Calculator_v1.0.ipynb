{
 "cells": [
  {
   "cell_type": "markdown",
   "id": "32e35c45",
   "metadata": {},
   "source": [
    "# Replication Factor Calculator v1.0\n",
    "### Patrick Perrine\n",
    "This is to compute solutions of the term $r$, or *replication factor*, as specified by:\n",
    "\n",
    "Valiant, L.G. (2005). Memorization and Association on a Realistic Neural Model. *Neural Computation, 17*, 527–555. https://doi.org/10.1162/0899766053019890\n",
    "\n",
    "All condition checks should be as stringent as the numerical calculations were subject to in the cited article, except for Equation 2.1 and its variants. We opted to change them to check if the supposed solution of $r$ is within two standard deviations of the calculated value.\n",
    "\n",
    "A couple known solutions of $r$ from Valiant (2005) are given in the example checks following each set of conditions listed. "
   ]
  },
  {
   "cell_type": "code",
   "execution_count": 1,
   "id": "81886a7f",
   "metadata": {},
   "outputs": [],
   "source": [
    "import numpy as np\n",
    "from scipy.stats import binom"
   ]
  },
  {
   "cell_type": "code",
   "execution_count": 2,
   "id": "50e1ee8f",
   "metadata": {},
   "outputs": [],
   "source": [
    "def B(r, p, k):\n",
    "    return binom.sf(k-1, r, p)\n",
    "\n",
    "def T(r, p, j):\n",
    "    return binom.pmf(j, r, p)"
   ]
  },
  {
   "cell_type": "markdown",
   "id": "1bf15b6c",
   "metadata": {},
   "source": [
    "Some global test parameters for which known solutions are available:"
   ]
  },
  {
   "cell_type": "code",
   "execution_count": 3,
   "id": "043ef6c3",
   "metadata": {},
   "outputs": [],
   "source": [
    "n = 100000\n",
    "d = 512\n",
    "p = d / n\n",
    "k = 16"
   ]
  },
  {
   "cell_type": "markdown",
   "id": "64270f1d",
   "metadata": {},
   "source": [
    "## I. Two-Step, Disjoint Representation Conditions"
   ]
  },
  {
   "cell_type": "code",
   "execution_count": 4,
   "id": "a8989121",
   "metadata": {},
   "outputs": [],
   "source": [
    "def check_eq_2_1(n, p, k, r):\n",
    "    expect = round(n * B(r, p, k)**2, 2)\n",
    "    stdev = 2 * np.sqrt(expect)\n",
    "    return r >= (expect - stdev) and r <= (expect + stdev)\n",
    "\n",
    "def check_eq_2_2(n, p, k, r):\n",
    "    p_dash = B(r/2, p, k) * B(r, p, k)\n",
    "    expect = B(n, p_dash, r/10)\n",
    "    return round(expect, 6) == 0.0\n",
    "\n",
    "def check_eq_2_3(n, p, k, r):\n",
    "    p_dash = (1 - B(r, p, k)) * (B(r, p, k))**2\n",
    "    expect = B(n, p_dash, 2*r/3)\n",
    "    return round(expect, 6) == 1.0\n",
    "\n",
    "def check_eq_2_4(n, p, k, r):\n",
    "    p_dash = p * B(r, p , k)\n",
    "    Y = B(n, p_dash, k)\n",
    "    return round(Y, 6) == 1.0\n",
    "\n",
    "def check_eq_2_5(n, p, k, r):\n",
    "    p_dash = B(n, p * B(r/2, p, k), k)\n",
    "    expect = B(r, p_dash, r/2)\n",
    "    return round(expect, 6) == 0.0\n",
    "\n",
    "def check_eq_2_6(n, p, k, r, t):\n",
    "    p_dash = p * (1 - (1 - B(r, p, k))**t)\n",
    "    p_ddash = B(n, p_dash * B(r, p, k), k)\n",
    "    approx = B(r, p_ddash, r/2)\n",
    "    return round(approx, 6) == 0.0"
   ]
  },
  {
   "cell_type": "code",
   "execution_count": 5,
   "id": "23edc53e",
   "metadata": {},
   "outputs": [],
   "source": [
    "def run_twostep_disjoint_checks(n, p, k, r, t=1):\n",
    "    print(\"For a Disjoint Representation with Two-Step Mechanisms,\")\n",
    "    header = 'set n={0}, d={1}, k={2}, t={3},\\n and test r={4}:'\n",
    "    print(header.format(n, round(n*p), k, t, r))\n",
    "    print(\"Equation 2.1:\", check_eq_2_1(n, p, k, r))\n",
    "    print(\"Equation 2.2:\", check_eq_2_2(n, p, k, r))\n",
    "    print(\"Equation 2.3:\", check_eq_2_3(n, p, k, r))\n",
    "    print(\"Equation 2.4:\", check_eq_2_4(n, p, k, r))\n",
    "    print(\"Equation 2.5:\", check_eq_2_5(n, p, k, r))\n",
    "    print(\"Equation 2.6:\", check_eq_2_6(n, p, k, r, t))"
   ]
  },
  {
   "cell_type": "markdown",
   "id": "9ad88aa4",
   "metadata": {},
   "source": [
    "### Example Check for a Two-Step, Disjoint Representation"
   ]
  },
  {
   "cell_type": "code",
   "execution_count": 6,
   "id": "0263bccc",
   "metadata": {},
   "outputs": [
    {
     "name": "stdout",
     "output_type": "stream",
     "text": [
      "For a Disjoint Representation with Two-Step Mechanisms,\n",
      "set n=100000, d=512, k=16, t=1,\n",
      " and test r=2338:\n",
      "Equation 2.1: True\n",
      "Equation 2.2: True\n",
      "Equation 2.3: True\n",
      "Equation 2.4: True\n",
      "Equation 2.5: True\n",
      "Equation 2.6: True\n"
     ]
    }
   ],
   "source": [
    "r_table_1 = 2338 # from Table 1 of Valiant (2005)\n",
    "run_twostep_disjoint_checks(n, p, k, r_table_1, 1)"
   ]
  },
  {
   "cell_type": "markdown",
   "id": "8702fd39",
   "metadata": {},
   "source": [
    "## II. Two-Step, Shared Representation Conditions"
   ]
  },
  {
   "cell_type": "code",
   "execution_count": 7,
   "id": "1f660b7f",
   "metadata": {},
   "outputs": [],
   "source": [
    "def check_eq_2_1_dash(n, p, k, r, c_1=1.05):\n",
    "    r_dash = round(r**2 / n)\n",
    "    total = 0.0\n",
    "    for i in range(0, k):\n",
    "        total += T(r_dash, p, i)*(B(r-r_dash, p, k-i))**2\n",
    "    p_dash = B(r_dash, p, k) + total\n",
    "    expect = round(n * p_dash, 6)\n",
    "    dev = expect * (c_1 - 1)\n",
    "    return r >= (expect - dev) and r <= (expect + dev)\n",
    "\n",
    "def check_eq_2_2_dash(n, p, k, r):\n",
    "    r_dash = round(r**2 / n)\n",
    "    total = 0.0\n",
    "    for i in range(0, k):\n",
    "        total += T(r_dash, p, i)*(B(r-r_dash, p, k-i))*B((r/2)-r_dash, p, k-i)\n",
    "    p_dash = B(r_dash, p, k) + total\n",
    "    expect = B(n, p_dash, r/10)\n",
    "    return round(expect, 6) == 0.0\n",
    "\n",
    "def check_eq_2_3_dash(n, p, k, r):\n",
    "    r_dash = round(r**2 / n)\n",
    "    r_ddash = round(r**3 / n**2)\n",
    "    r_caret = r_dash - r_ddash\n",
    "    p_dash = 0.0\n",
    "    for i in range(0, k+1):\n",
    "        total_j = 0.0\n",
    "        for j in range(0, k-i+1):\n",
    "            total_l = 0.0\n",
    "            for l in range(0, k-i-j+1):\n",
    "                total_m = 0.0\n",
    "                for m in range(0, k-i-j-l+1):\n",
    "                    total_m += T(r_ddash, p, m) * (B(r-2*r_dash+r_ddash, p, k-i-j-m) * B(r-2*r_dash+r_ddash, p, k-j-l-m) * (1-B(r-2*r_dash + r_ddash, p, k-i-l-m)))\n",
    "                total_l += T(r_caret, p, l) * total_m\n",
    "            total_j += T(r_caret, p, j) * total_l\n",
    "        p_dash += T(r_caret, p, i) * total_j\n",
    "    expect = B(n, p_dash, 2*r/3)\n",
    "    return round(expect, 5) == 1.0\n",
    "\n",
    "def check_eq_2_4_dash(n, p, k, r):\n",
    "    return check_eq_2_4(n, p, k, r)\n",
    "\n",
    "def check_eq_2_5_dash(n, p, k, r):\n",
    "    return check_eq_2_5(n, p, k, r)\n",
    "\n",
    "def check_eq_2_6_dash(n, p, k, r, t=1):\n",
    "    r_dash = round(r**2 / n)\n",
    "    total = 0.0\n",
    "    for i in range(0, k):\n",
    "        total += T(r_dash, p, i)*(B(r-r_dash, p, k-i))**2\n",
    "    p_dash = B(r_dash, p, k) + total\n",
    "    p_ddash = p_dash * B(n, p_dash, k)\n",
    "    expect = B(r, p_ddash, r/2)\n",
    "    return round(expect, 6) == 0.0"
   ]
  },
  {
   "cell_type": "code",
   "execution_count": 8,
   "id": "90a8d936",
   "metadata": {},
   "outputs": [],
   "source": [
    "def run_twostep_shared_checks(n, p, k, r, t=1, c_1=1.05):\n",
    "    print(\"For a Shared Representation with Two-Step Mechanisms,\")\n",
    "    header = 'set n={0}, d={1}, k={2}, t={3}, c_1={4},\\n and test r={5}:'\n",
    "    print(header.format(n, round(n*p), k, t, c_1, r))\n",
    "    print(\"Equation 2.1':\", check_eq_2_1_dash(n, p, k, r, c_1))\n",
    "    print(\"Equation 2.2':\", check_eq_2_2_dash(n, p, k, r))\n",
    "    print(\"Equation 2.3':\", check_eq_2_3_dash(n, p, k, r))\n",
    "    print(\"Equation 2.4':\", check_eq_2_4_dash(n, p, k, r))\n",
    "    print(\"Equation 2.5':\", check_eq_2_5_dash(n, p, k, r))\n",
    "    print(\"Equation 2.6':\", check_eq_2_6_dash(n, p, k, r, t))"
   ]
  },
  {
   "cell_type": "markdown",
   "id": "08da7ad3",
   "metadata": {},
   "source": [
    "### Example Check for a Two-Step, Shared Representation"
   ]
  },
  {
   "cell_type": "code",
   "execution_count": 9,
   "id": "f634af04",
   "metadata": {},
   "outputs": [
    {
     "name": "stdout",
     "output_type": "stream",
     "text": [
      "For a Shared Representation with Two-Step Mechanisms,\n",
      "set n=100000, d=512, k=16, t=1, c_1=1.09,\n",
      " and test r=2338:\n",
      "Equation 2.1': True\n",
      "Equation 2.2': True\n",
      "Equation 2.3': True\n",
      "Equation 2.4': True\n",
      "Equation 2.5': True\n",
      "Equation 2.6': True\n"
     ]
    }
   ],
   "source": [
    "r_table_1 = 2338 # from Table 1 of Valiant (2005)\n",
    "run_twostep_shared_checks(n, p, k, r_table_1, 1, 1.09)"
   ]
  },
  {
   "cell_type": "markdown",
   "id": "6266b3aa",
   "metadata": {},
   "source": [
    "## III. One-Step, Shared Representation Conditions\n",
    "The calculation of Equation 2.3'' is available for a *one-step, disjoint* representation. We believe this was given due to the significant runtime complexity for calculating the shared variant."
   ]
  },
  {
   "cell_type": "code",
   "execution_count": 10,
   "id": "8427804b",
   "metadata": {},
   "outputs": [],
   "source": [
    "def check_eq_2_1_ddash(n, p, k_m, r):\n",
    "    r_dash = round(r**2 / n)\n",
    "    p_dash = B((2*r) - r_dash, p, k_m)\n",
    "    expect = round(n * p_dash, 2)\n",
    "    dev = 2 * np.sqrt(expect)\n",
    "    return r >= (expect - dev) and r <= (expect + dev)\n",
    "\n",
    "def check_eq_2_2_ddash(n, p, k_m, r):\n",
    "    p_dash = B(3*r/2, p, k_m) # \n",
    "    expect = B(n, p_dash, r/10)\n",
    "    return round(expect, 6) == 0.0\n",
    "\n",
    "def eq_2_3_ddash_p_dash_disjoint(n, p, k_m, r):\n",
    "    p_dash = 0.0\n",
    "    for s in range(0, k_m):\n",
    "        p_dash += T(r, p, s) * (B(r, p, k_m - s)) * (1 - B(r, p, k_m - s))\n",
    "    return p_dash\n",
    "\n",
    "# Note this function runs in O(k_m^5) time\n",
    "def eq_2_3_ddash_p_dash_shared(n, p, k_m, r):\n",
    "    r_dash = round(r**2 / n)\n",
    "    r_ddash = round(r**3 / n**2)\n",
    "    r_caret = r_dash - r_ddash\n",
    "    r_sharp = r + 2*r_dash + r_ddash # double minus in paper?\n",
    "    p_dash = 0.0\n",
    "    for s in range(0, k_m):\n",
    "        total_i = 0.0\n",
    "        for i in range(0, k_m-s):\n",
    "            total_j = 0.0\n",
    "            for j in range(0, k_m-i-s):\n",
    "                total_m = 0.0\n",
    "                for m in range(0, k_m-i-j-s):\n",
    "                    total_l = 0.0\n",
    "                    for l in range(0, k_m-i-j-m-s):\n",
    "                        total_l += T(r_caret, p, l) * ((B(r_sharp, p, k_m-s-i-j-l-m)) * (1 - B(r_sharp, p, k_m-s-i-j-l-m)))\n",
    "                    total_m += T(r_ddash, p, m) * total_l\n",
    "                total_j += T(r_caret, p, j) * total_m\n",
    "            total_i += T(r_caret, p, i) * total_j\n",
    "        p_dash += T(r_sharp, p, s) * total_i\n",
    "    return p_dash\n",
    "\n",
    "def check_eq_2_3_ddash(n, p, k_m, r, complete_share=True):\n",
    "    if not complete_share:\n",
    "        p_dash = eq_2_3_ddash_p_dash_disjoint(n, p, k_m, r)\n",
    "    else:\n",
    "        p_dash = eq_2_3_ddash_p_dash_shared(n, p, k_m, r)\n",
    "    expect = B(n, p_dash, 2*r/3)\n",
    "    return round(expect, 6) == 1.0\n",
    "\n",
    "def check_eq_2_4_ddash(n, p, k_a, r):\n",
    "    p_dash = p * B(r, p, k_a)\n",
    "    Y = B(n, p_dash, k_a)\n",
    "    return round(Y, 6) == 1.0\n",
    "\n",
    "def check_eq_2_5_ddash(n, p, k_a, r):\n",
    "    p_dash = p * B(r/2, p, k_a)\n",
    "    p_ddash = B(n, p_dash, k_a)\n",
    "    expect = B(r, p_ddash, r/2)\n",
    "    return round(expect, 6) == 0.0\n",
    "\n",
    "def check_eq_2_6_ddash(n, p, k_a, r):\n",
    "    r_dash = round(r**2 / n)\n",
    "    total = 0.0\n",
    "    for i in range(0, k_a):\n",
    "        total += T(r_dash, p, i)*(B(r-r_dash, p, k_a-i))**2\n",
    "    p_dash = p * (B(r_dash, p, k_a) + total)\n",
    "    p_ddash = B(n, p_dash, k_a)\n",
    "    expect = B(r, p_ddash, r/2)\n",
    "    return round(expect, 6) == 0.0"
   ]
  },
  {
   "cell_type": "code",
   "execution_count": 11,
   "id": "d0d713bb",
   "metadata": {},
   "outputs": [],
   "source": [
    "def run_onestep_shared_checks(n, p, k, k_adj, r, complete_share=True):\n",
    "    k_a = k\n",
    "    k_m = round(k_adj * k_a)\n",
    "    if not complete_share:\n",
    "        print(\"For a Partially-Shared Representation with One-Step Mechanisms,\")\n",
    "    else:\n",
    "        print(\"For a Shared Representation with One-Step Mechanisms,\")\n",
    "    header = 'set n={0}, d={1}, k_a={2}, k_m={3},\\n and test r={4}:'\n",
    "    print(header.format(n, round(n*p), k_a, k_m, r))\n",
    "    print(\"Equation 2.1'':\", check_eq_2_1_ddash(n, p, k_m, r))\n",
    "    print(\"Equation 2.2'':\", check_eq_2_2_ddash(n, p, k_m, r))\n",
    "    print(\"* Calculations of Equation 2.3'' (Shared) run in O(n^5) time... *\", end='\\r')\n",
    "    eq_2_3_ddash_result = check_eq_2_3_ddash(n, p, k_m, r, complete_share)\n",
    "    if not complete_share:\n",
    "        print(\"Equation 2.3'' (Disjoint):\", eq_2_3_ddash_result, ' '*45)\n",
    "    else:\n",
    "        print(\"Equation 2.3'':\", eq_2_3_ddash_result, ' '*45)\n",
    "    print(\"Equation 2.4'':\", check_eq_2_4_ddash(n, p, k_a, r))\n",
    "    print(\"Equation 2.5'':\", check_eq_2_5_ddash(n, p, k_a, r))\n",
    "    print(\"Equation 2.6'':\", check_eq_2_6_ddash(n, p, k_a, r))"
   ]
  },
  {
   "cell_type": "markdown",
   "id": "188467ef",
   "metadata": {},
   "source": [
    "### Example Check for a One-Step, Shared Representation"
   ]
  },
  {
   "cell_type": "code",
   "execution_count": 12,
   "id": "892c4b7e",
   "metadata": {},
   "outputs": [
    {
     "name": "stdout",
     "output_type": "stream",
     "text": [
      "For a Shared Representation with One-Step Mechanisms,\n",
      "set n=100000, d=512, k_a=16, k_m=32,\n",
      " and test r=2134:\n",
      "Equation 2.1'': True\n",
      "Equation 2.2'': True\n",
      "Equation 2.3'': True                                              \n",
      "Equation 2.4'': True\n",
      "Equation 2.5'': True\n",
      "Equation 2.6'': True\n"
     ]
    }
   ],
   "source": [
    "k_adj = 2.0\n",
    "r_table_3 = 2134 # from Table 3 of Valiant (2005)\n",
    "run_onestep_shared_checks(n, p, k, k_adj, r_table_3, complete_share=True)"
   ]
  },
  {
   "cell_type": "markdown",
   "id": "adaa7d5d",
   "metadata": {},
   "source": [
    "## Example Tests for New Potential Solutions of $r$"
   ]
  },
  {
   "cell_type": "markdown",
   "id": "3e43ff03",
   "metadata": {},
   "source": [
    "#### Test for a \"worm-sized\" shared representation that meets some conditions:"
   ]
  },
  {
   "cell_type": "code",
   "execution_count": 13,
   "id": "0335c7b0",
   "metadata": {},
   "outputs": [],
   "source": [
    "n = 500\n",
    "d = 128\n",
    "p = d / n\n",
    "k = 16\n",
    "k_adj = 1.5\n",
    "\n",
    "r_test = 37"
   ]
  },
  {
   "cell_type": "code",
   "execution_count": 14,
   "id": "2bf15bb5",
   "metadata": {},
   "outputs": [
    {
     "name": "stdout",
     "output_type": "stream",
     "text": [
      "For a Shared Representation with One-Step Mechanisms,\n",
      "set n=500, d=128, k_a=16, k_m=24,\n",
      " and test r=37:\n",
      "Equation 2.1'': True\n",
      "Equation 2.2'': False\n",
      "Equation 2.3'': True                                              \n",
      "Equation 2.4'': False\n",
      "Equation 2.5'': True\n",
      "Equation 2.6'': True\n"
     ]
    }
   ],
   "source": [
    "run_onestep_shared_checks(n, p, k, k_adj, r_test, complete_share=True)"
   ]
  },
  {
   "cell_type": "markdown",
   "id": "88124009",
   "metadata": {},
   "source": [
    "#### Test for a \"human-sized,\" partially-shared representation that meets some conditions:"
   ]
  },
  {
   "cell_type": "code",
   "execution_count": 15,
   "id": "8296d7dd",
   "metadata": {},
   "outputs": [],
   "source": [
    "n = 100000000000\n",
    "d = 8192\n",
    "p = d / n\n",
    "k = 64\n",
    "k_adj = 2.0\n",
    "\n",
    "r_test = 512000000"
   ]
  },
  {
   "cell_type": "code",
   "execution_count": 16,
   "id": "3d907248",
   "metadata": {},
   "outputs": [
    {
     "name": "stdout",
     "output_type": "stream",
     "text": [
      "For a Partially-Shared Representation with One-Step Mechanisms,\n",
      "set n=100000000000, d=8192, k_a=64, k_m=128,\n",
      " and test r=512000000:\n",
      "Equation 2.1'': False\n",
      "Equation 2.2'': True\n",
      "* Calculations of Equation 2.3'' (Shared) run in O(n^5) time... *\r",
      "Equation 2.3'' (Disjoint): False                                              \n",
      "Equation 2.4'': False\n",
      "Equation 2.5'': True\n",
      "Equation 2.6'': True\n"
     ]
    }
   ],
   "source": [
    "run_onestep_shared_checks(n, p, k, k_adj, r_test, complete_share=False)"
   ]
  },
  {
   "cell_type": "markdown",
   "id": "3c046cf3",
   "metadata": {},
   "source": [
    "## Potential Future Work\n",
    "* Verify the bounds given in Chapter 5 of the paper\n",
    "* Explore the $c_2$ variable from Chapter 7 of the paper\n",
    "* Incorporate all calculations from the paper and related work"
   ]
  },
  {
   "cell_type": "code",
   "execution_count": null,
   "id": "b4e71142",
   "metadata": {},
   "outputs": [],
   "source": []
  }
 ],
 "metadata": {
  "kernelspec": {
   "display_name": "Python 3 (ipykernel)",
   "language": "python",
   "name": "python3"
  },
  "language_info": {
   "codemirror_mode": {
    "name": "ipython",
    "version": 3
   },
   "file_extension": ".py",
   "mimetype": "text/x-python",
   "name": "python",
   "nbconvert_exporter": "python",
   "pygments_lexer": "ipython3",
   "version": "3.9.18"
  }
 },
 "nbformat": 4,
 "nbformat_minor": 5
}
